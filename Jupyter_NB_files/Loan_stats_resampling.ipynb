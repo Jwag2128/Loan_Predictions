{
 "cells": [
  {
   "cell_type": "code",
   "execution_count": 37,
   "id": "0edefb0e",
   "metadata": {},
   "outputs": [],
   "source": [
    "# Initial imports\n",
    "import pandas as pd\n",
    "import hvplot.pandas\n",
    "from pathlib import Path\n",
    "from collections import Counter\n",
    "import plotly.express as px\n",
    "from sklearn.preprocessing import StandardScaler, MinMaxScaler\n",
    "from sklearn.decomposition import PCA\n",
    "from sklearn.cluster import KMeans\n"
   ]
  },
  {
   "cell_type": "code",
   "execution_count": 38,
   "id": "55b06bc3",
   "metadata": {},
   "outputs": [],
   "source": [
    "import warnings\n",
    "warnings.filterwarnings('ignore')"
   ]
  },
  {
   "cell_type": "code",
   "execution_count": 39,
   "id": "78dc5b03",
   "metadata": {},
   "outputs": [
    {
     "data": {
      "text/html": [
       "<div>\n",
       "<style scoped>\n",
       "    .dataframe tbody tr th:only-of-type {\n",
       "        vertical-align: middle;\n",
       "    }\n",
       "\n",
       "    .dataframe tbody tr th {\n",
       "        vertical-align: top;\n",
       "    }\n",
       "\n",
       "    .dataframe thead th {\n",
       "        text-align: right;\n",
       "    }\n",
       "</style>\n",
       "<table border=\"1\" class=\"dataframe\">\n",
       "  <thead>\n",
       "    <tr style=\"text-align: right;\">\n",
       "      <th></th>\n",
       "      <th>Loan_Amt</th>\n",
       "      <th>Loan_Term</th>\n",
       "      <th>Monthly_Payment</th>\n",
       "      <th>Credit_Grade</th>\n",
       "      <th>Employement_Length</th>\n",
       "      <th>Annual_Income</th>\n",
       "      <th>DTI_Ratio</th>\n",
       "      <th>Application_Type</th>\n",
       "      <th>Joint_Annual_Income</th>\n",
       "      <th>Joint_DTI_Ratio</th>\n",
       "      <th>...</th>\n",
       "      <th>Delinquent_Amount</th>\n",
       "      <th>#_Mortgage_Accounts</th>\n",
       "      <th>#_Bankruptcies</th>\n",
       "      <th>#_Tax_Liens</th>\n",
       "      <th>Balance_Exc_Mortgage</th>\n",
       "      <th>Joint_Revolving_Balance</th>\n",
       "      <th>Open_Acc_IL24m</th>\n",
       "      <th>Open_RevAcc_24m</th>\n",
       "      <th>Acc_Curr_PD30days</th>\n",
       "      <th>Loan_Status</th>\n",
       "    </tr>\n",
       "  </thead>\n",
       "  <tbody>\n",
       "    <tr>\n",
       "      <th>0</th>\n",
       "      <td>3600</td>\n",
       "      <td>36</td>\n",
       "      <td>111.97</td>\n",
       "      <td>A4</td>\n",
       "      <td>10+ years</td>\n",
       "      <td>120000.0</td>\n",
       "      <td>18.90</td>\n",
       "      <td>INDIVIDUAL</td>\n",
       "      <td>0.0</td>\n",
       "      <td>0.0</td>\n",
       "      <td>...</td>\n",
       "      <td>0</td>\n",
       "      <td>0</td>\n",
       "      <td>1</td>\n",
       "      <td>0</td>\n",
       "      <td>36506</td>\n",
       "      <td>0.0</td>\n",
       "      <td>14</td>\n",
       "      <td>11</td>\n",
       "      <td>0.0</td>\n",
       "      <td>Issued</td>\n",
       "    </tr>\n",
       "    <tr>\n",
       "      <th>1</th>\n",
       "      <td>15000</td>\n",
       "      <td>60</td>\n",
       "      <td>356.78</td>\n",
       "      <td>C4</td>\n",
       "      <td>10+ years</td>\n",
       "      <td>125000.0</td>\n",
       "      <td>17.25</td>\n",
       "      <td>INDIVIDUAL</td>\n",
       "      <td>0.0</td>\n",
       "      <td>0.0</td>\n",
       "      <td>...</td>\n",
       "      <td>0</td>\n",
       "      <td>2</td>\n",
       "      <td>0</td>\n",
       "      <td>0</td>\n",
       "      <td>69364</td>\n",
       "      <td>0.0</td>\n",
       "      <td>3</td>\n",
       "      <td>3</td>\n",
       "      <td>0.0</td>\n",
       "      <td>Issued</td>\n",
       "    </tr>\n",
       "    <tr>\n",
       "      <th>2</th>\n",
       "      <td>8400</td>\n",
       "      <td>36</td>\n",
       "      <td>276.56</td>\n",
       "      <td>B3</td>\n",
       "      <td>8 years</td>\n",
       "      <td>50000.0</td>\n",
       "      <td>15.63</td>\n",
       "      <td>INDIVIDUAL</td>\n",
       "      <td>0.0</td>\n",
       "      <td>0.0</td>\n",
       "      <td>...</td>\n",
       "      <td>0</td>\n",
       "      <td>4</td>\n",
       "      <td>0</td>\n",
       "      <td>0</td>\n",
       "      <td>51591</td>\n",
       "      <td>0.0</td>\n",
       "      <td>5</td>\n",
       "      <td>12</td>\n",
       "      <td>0.0</td>\n",
       "      <td>Issued</td>\n",
       "    </tr>\n",
       "    <tr>\n",
       "      <th>3</th>\n",
       "      <td>4000</td>\n",
       "      <td>36</td>\n",
       "      <td>130.00</td>\n",
       "      <td>B2</td>\n",
       "      <td>2 years</td>\n",
       "      <td>50000.0</td>\n",
       "      <td>33.61</td>\n",
       "      <td>INDIVIDUAL</td>\n",
       "      <td>0.0</td>\n",
       "      <td>0.0</td>\n",
       "      <td>...</td>\n",
       "      <td>0</td>\n",
       "      <td>6</td>\n",
       "      <td>0</td>\n",
       "      <td>0</td>\n",
       "      <td>136208</td>\n",
       "      <td>0.0</td>\n",
       "      <td>7</td>\n",
       "      <td>4</td>\n",
       "      <td>0.0</td>\n",
       "      <td>Issued</td>\n",
       "    </tr>\n",
       "    <tr>\n",
       "      <th>4</th>\n",
       "      <td>6000</td>\n",
       "      <td>36</td>\n",
       "      <td>185.93</td>\n",
       "      <td>A3</td>\n",
       "      <td>3 years</td>\n",
       "      <td>125000.0</td>\n",
       "      <td>9.25</td>\n",
       "      <td>INDIVIDUAL</td>\n",
       "      <td>0.0</td>\n",
       "      <td>0.0</td>\n",
       "      <td>...</td>\n",
       "      <td>0</td>\n",
       "      <td>0</td>\n",
       "      <td>0</td>\n",
       "      <td>0</td>\n",
       "      <td>60622</td>\n",
       "      <td>0.0</td>\n",
       "      <td>15</td>\n",
       "      <td>3</td>\n",
       "      <td>0.0</td>\n",
       "      <td>Current</td>\n",
       "    </tr>\n",
       "  </tbody>\n",
       "</table>\n",
       "<p>5 rows × 26 columns</p>\n",
       "</div>"
      ],
      "text/plain": [
       "   Loan_Amt  Loan_Term  Monthly_Payment Credit_Grade Employement_Length  \\\n",
       "0      3600         36           111.97           A4          10+ years   \n",
       "1     15000         60           356.78           C4          10+ years   \n",
       "2      8400         36           276.56           B3            8 years   \n",
       "3      4000         36           130.00           B2            2 years   \n",
       "4      6000         36           185.93           A3            3 years   \n",
       "\n",
       "   Annual_Income  DTI_Ratio Application_Type  Joint_Annual_Income  \\\n",
       "0       120000.0      18.90       INDIVIDUAL                  0.0   \n",
       "1       125000.0      17.25       INDIVIDUAL                  0.0   \n",
       "2        50000.0      15.63       INDIVIDUAL                  0.0   \n",
       "3        50000.0      33.61       INDIVIDUAL                  0.0   \n",
       "4       125000.0       9.25       INDIVIDUAL                  0.0   \n",
       "\n",
       "   Joint_DTI_Ratio  ...  Delinquent_Amount  #_Mortgage_Accounts  \\\n",
       "0              0.0  ...                  0                    0   \n",
       "1              0.0  ...                  0                    2   \n",
       "2              0.0  ...                  0                    4   \n",
       "3              0.0  ...                  0                    6   \n",
       "4              0.0  ...                  0                    0   \n",
       "\n",
       "   #_Bankruptcies  #_Tax_Liens  Balance_Exc_Mortgage  Joint_Revolving_Balance  \\\n",
       "0               1            0                 36506                      0.0   \n",
       "1               0            0                 69364                      0.0   \n",
       "2               0            0                 51591                      0.0   \n",
       "3               0            0                136208                      0.0   \n",
       "4               0            0                 60622                      0.0   \n",
       "\n",
       "   Open_Acc_IL24m  Open_RevAcc_24m  Acc_Curr_PD30days  Loan_Status  \n",
       "0              14               11                0.0       Issued  \n",
       "1               3                3                0.0       Issued  \n",
       "2               5               12                0.0       Issued  \n",
       "3               7                4                0.0       Issued  \n",
       "4              15                3                0.0      Current  \n",
       "\n",
       "[5 rows x 26 columns]"
      ]
     },
     "execution_count": 39,
     "metadata": {},
     "output_type": "execute_result"
    }
   ],
   "source": [
    "#Load Dataframe\n",
    "data = Path('Loan_Predictions/Loans_Data_ML.csv')\n",
    "df = pd.read_csv(data)\n",
    "df.head()"
   ]
  },
  {
   "cell_type": "code",
   "execution_count": 40,
   "id": "3a2a2f86",
   "metadata": {},
   "outputs": [
    {
     "data": {
      "text/html": [
       "<div>\n",
       "<style scoped>\n",
       "    .dataframe tbody tr th:only-of-type {\n",
       "        vertical-align: middle;\n",
       "    }\n",
       "\n",
       "    .dataframe tbody tr th {\n",
       "        vertical-align: top;\n",
       "    }\n",
       "\n",
       "    .dataframe thead th {\n",
       "        text-align: right;\n",
       "    }\n",
       "</style>\n",
       "<table border=\"1\" class=\"dataframe\">\n",
       "  <thead>\n",
       "    <tr style=\"text-align: right;\">\n",
       "      <th></th>\n",
       "      <th>Loan_Amt</th>\n",
       "      <th>Loan_Term</th>\n",
       "      <th>Monthly_Payment</th>\n",
       "      <th>Credit_Grade</th>\n",
       "      <th>Employement_Length</th>\n",
       "      <th>Annual_Income</th>\n",
       "      <th>DTI_Ratio</th>\n",
       "      <th>Application_Type</th>\n",
       "      <th>Joint_Annual_Income</th>\n",
       "      <th>Joint_DTI_Ratio</th>\n",
       "      <th>...</th>\n",
       "      <th>Delinquent_Amount</th>\n",
       "      <th>#_Mortgage_Accounts</th>\n",
       "      <th>#_Bankruptcies</th>\n",
       "      <th>#_Tax_Liens</th>\n",
       "      <th>Balance_Exc_Mortgage</th>\n",
       "      <th>Joint_Revolving_Balance</th>\n",
       "      <th>Open_Acc_IL24m</th>\n",
       "      <th>Open_RevAcc_24m</th>\n",
       "      <th>Acc_Curr_PD30days</th>\n",
       "      <th>Loan_Status</th>\n",
       "    </tr>\n",
       "  </thead>\n",
       "  <tbody>\n",
       "    <tr>\n",
       "      <th>0</th>\n",
       "      <td>6000</td>\n",
       "      <td>36</td>\n",
       "      <td>185.93</td>\n",
       "      <td>A3</td>\n",
       "      <td>3 years</td>\n",
       "      <td>125000.0</td>\n",
       "      <td>9.25</td>\n",
       "      <td>INDIVIDUAL</td>\n",
       "      <td>0.0</td>\n",
       "      <td>0.0</td>\n",
       "      <td>...</td>\n",
       "      <td>0</td>\n",
       "      <td>0</td>\n",
       "      <td>0</td>\n",
       "      <td>0</td>\n",
       "      <td>60622</td>\n",
       "      <td>0.0</td>\n",
       "      <td>15</td>\n",
       "      <td>3</td>\n",
       "      <td>0.0</td>\n",
       "      <td>low_risk</td>\n",
       "    </tr>\n",
       "    <tr>\n",
       "      <th>1</th>\n",
       "      <td>12000</td>\n",
       "      <td>36</td>\n",
       "      <td>370.48</td>\n",
       "      <td>A2</td>\n",
       "      <td>10+ years</td>\n",
       "      <td>56000.0</td>\n",
       "      <td>17.90</td>\n",
       "      <td>INDIVIDUAL</td>\n",
       "      <td>0.0</td>\n",
       "      <td>0.0</td>\n",
       "      <td>...</td>\n",
       "      <td>0</td>\n",
       "      <td>5</td>\n",
       "      <td>0</td>\n",
       "      <td>0</td>\n",
       "      <td>21540</td>\n",
       "      <td>0.0</td>\n",
       "      <td>5</td>\n",
       "      <td>0</td>\n",
       "      <td>0.0</td>\n",
       "      <td>low_risk</td>\n",
       "    </tr>\n",
       "    <tr>\n",
       "      <th>2</th>\n",
       "      <td>10500</td>\n",
       "      <td>60</td>\n",
       "      <td>345.15</td>\n",
       "      <td>G2</td>\n",
       "      <td>&lt; 1 year</td>\n",
       "      <td>45000.0</td>\n",
       "      <td>17.25</td>\n",
       "      <td>INDIVIDUAL</td>\n",
       "      <td>0.0</td>\n",
       "      <td>0.0</td>\n",
       "      <td>...</td>\n",
       "      <td>0</td>\n",
       "      <td>0</td>\n",
       "      <td>1</td>\n",
       "      <td>0</td>\n",
       "      <td>22148</td>\n",
       "      <td>0.0</td>\n",
       "      <td>7</td>\n",
       "      <td>13</td>\n",
       "      <td>0.0</td>\n",
       "      <td>low_risk</td>\n",
       "    </tr>\n",
       "    <tr>\n",
       "      <th>3</th>\n",
       "      <td>18000</td>\n",
       "      <td>36</td>\n",
       "      <td>542.07</td>\n",
       "      <td>A1</td>\n",
       "      <td>&lt; 1 year</td>\n",
       "      <td>155000.0</td>\n",
       "      <td>9.08</td>\n",
       "      <td>INDIVIDUAL</td>\n",
       "      <td>0.0</td>\n",
       "      <td>0.0</td>\n",
       "      <td>...</td>\n",
       "      <td>0</td>\n",
       "      <td>0</td>\n",
       "      <td>0</td>\n",
       "      <td>0</td>\n",
       "      <td>61257</td>\n",
       "      <td>0.0</td>\n",
       "      <td>4</td>\n",
       "      <td>1</td>\n",
       "      <td>0.0</td>\n",
       "      <td>low_risk</td>\n",
       "    </tr>\n",
       "    <tr>\n",
       "      <th>4</th>\n",
       "      <td>1600</td>\n",
       "      <td>36</td>\n",
       "      <td>53.72</td>\n",
       "      <td>C1</td>\n",
       "      <td>1 year</td>\n",
       "      <td>60000.0</td>\n",
       "      <td>12.62</td>\n",
       "      <td>INDIVIDUAL</td>\n",
       "      <td>0.0</td>\n",
       "      <td>0.0</td>\n",
       "      <td>...</td>\n",
       "      <td>0</td>\n",
       "      <td>0</td>\n",
       "      <td>0</td>\n",
       "      <td>0</td>\n",
       "      <td>27231</td>\n",
       "      <td>0.0</td>\n",
       "      <td>6</td>\n",
       "      <td>10</td>\n",
       "      <td>0.0</td>\n",
       "      <td>low_risk</td>\n",
       "    </tr>\n",
       "  </tbody>\n",
       "</table>\n",
       "<p>5 rows × 26 columns</p>\n",
       "</div>"
      ],
      "text/plain": [
       "   Loan_Amt  Loan_Term  Monthly_Payment Credit_Grade Employement_Length  \\\n",
       "0      6000         36           185.93           A3            3 years   \n",
       "1     12000         36           370.48           A2          10+ years   \n",
       "2     10500         60           345.15           G2           < 1 year   \n",
       "3     18000         36           542.07           A1           < 1 year   \n",
       "4      1600         36            53.72           C1             1 year   \n",
       "\n",
       "   Annual_Income  DTI_Ratio Application_Type  Joint_Annual_Income  \\\n",
       "0       125000.0       9.25       INDIVIDUAL                  0.0   \n",
       "1        56000.0      17.90       INDIVIDUAL                  0.0   \n",
       "2        45000.0      17.25       INDIVIDUAL                  0.0   \n",
       "3       155000.0       9.08       INDIVIDUAL                  0.0   \n",
       "4        60000.0      12.62       INDIVIDUAL                  0.0   \n",
       "\n",
       "   Joint_DTI_Ratio  ...  Delinquent_Amount  #_Mortgage_Accounts  \\\n",
       "0              0.0  ...                  0                    0   \n",
       "1              0.0  ...                  0                    5   \n",
       "2              0.0  ...                  0                    0   \n",
       "3              0.0  ...                  0                    0   \n",
       "4              0.0  ...                  0                    0   \n",
       "\n",
       "   #_Bankruptcies  #_Tax_Liens  Balance_Exc_Mortgage  Joint_Revolving_Balance  \\\n",
       "0               0            0                 60622                      0.0   \n",
       "1               0            0                 21540                      0.0   \n",
       "2               1            0                 22148                      0.0   \n",
       "3               0            0                 61257                      0.0   \n",
       "4               0            0                 27231                      0.0   \n",
       "\n",
       "   Open_Acc_IL24m  Open_RevAcc_24m  Acc_Curr_PD30days  Loan_Status  \n",
       "0              15                3                0.0     low_risk  \n",
       "1               5                0                0.0     low_risk  \n",
       "2               7               13                0.0     low_risk  \n",
       "3               4                1                0.0     low_risk  \n",
       "4               6               10                0.0     low_risk  \n",
       "\n",
       "[5 rows x 26 columns]"
      ]
     },
     "execution_count": 40,
     "metadata": {},
     "output_type": "execute_result"
    }
   ],
   "source": [
    "# Remove the `Issued` loan status\n",
    "issued_mask = df['Loan_Status'] != 'Issued'\n",
    "df = df.loc[issued_mask]\n",
    "issued_mask = df['Loan_Status'] != 'Fully Paid'\n",
    "df = df.loc[issued_mask]\n",
    "\n",
    "# Convert the target column values to low_risk and high_risk based on their values\n",
    "x = {'Current': 'low_risk'}   \n",
    "df = df.replace(x)\n",
    "\n",
    "x = dict.fromkeys(['Late (31-120 days)', 'Late (16-30 days)', 'In Grace Period'], 'high_risk')    \n",
    "df = df.replace(x)\n",
    "\n",
    "df.reset_index(inplace=True, drop=True)\n",
    "\n",
    "df.head()"
   ]
  },
  {
   "cell_type": "markdown",
   "id": "f16e0c4d",
   "metadata": {},
   "source": [
    "## Split the Data into Training and Testing"
   ]
  },
  {
   "cell_type": "code",
   "execution_count": 41,
   "id": "600fcda7",
   "metadata": {},
   "outputs": [],
   "source": [
    "# Create our features\n",
    "\n",
    "X = df.drop(columns='Loan_Status', axis=1)\n",
    "X = pd.get_dummies(X)\n",
    "\n",
    "# Create our target\n",
    "y = df[\"Loan_Status\"]"
   ]
  },
  {
   "cell_type": "code",
   "execution_count": 42,
   "id": "9615df1b",
   "metadata": {},
   "outputs": [
    {
     "data": {
      "text/html": [
       "<div>\n",
       "<style scoped>\n",
       "    .dataframe tbody tr th:only-of-type {\n",
       "        vertical-align: middle;\n",
       "    }\n",
       "\n",
       "    .dataframe tbody tr th {\n",
       "        vertical-align: top;\n",
       "    }\n",
       "\n",
       "    .dataframe thead th {\n",
       "        text-align: right;\n",
       "    }\n",
       "</style>\n",
       "<table border=\"1\" class=\"dataframe\">\n",
       "  <thead>\n",
       "    <tr style=\"text-align: right;\">\n",
       "      <th></th>\n",
       "      <th>Loan_Amt</th>\n",
       "      <th>Loan_Term</th>\n",
       "      <th>Monthly_Payment</th>\n",
       "      <th>Annual_Income</th>\n",
       "      <th>DTI_Ratio</th>\n",
       "      <th>Joint_Annual_Income</th>\n",
       "      <th>Joint_DTI_Ratio</th>\n",
       "      <th>#_Open_Accounts</th>\n",
       "      <th>#_Delinquent_Accounts</th>\n",
       "      <th>Total_Amount_in_Collection</th>\n",
       "      <th>...</th>\n",
       "      <th>Employement_Length_5 years</th>\n",
       "      <th>Employement_Length_6 years</th>\n",
       "      <th>Employement_Length_7 years</th>\n",
       "      <th>Employement_Length_8 years</th>\n",
       "      <th>Employement_Length_9 years</th>\n",
       "      <th>Employement_Length_&lt; 1 year</th>\n",
       "      <th>Employement_Length_None</th>\n",
       "      <th>Application_Type_DIRECT_PAY</th>\n",
       "      <th>Application_Type_INDIVIDUAL</th>\n",
       "      <th>Application_Type_JOINT</th>\n",
       "    </tr>\n",
       "  </thead>\n",
       "  <tbody>\n",
       "    <tr>\n",
       "      <th>count</th>\n",
       "      <td>79457.000000</td>\n",
       "      <td>79457.000000</td>\n",
       "      <td>79457.000000</td>\n",
       "      <td>7.945700e+04</td>\n",
       "      <td>79457.000000</td>\n",
       "      <td>7.945700e+04</td>\n",
       "      <td>79457.000000</td>\n",
       "      <td>79457.000000</td>\n",
       "      <td>79457.000000</td>\n",
       "      <td>79457.000000</td>\n",
       "      <td>...</td>\n",
       "      <td>79457.000000</td>\n",
       "      <td>79457.000000</td>\n",
       "      <td>79457.000000</td>\n",
       "      <td>79457.000000</td>\n",
       "      <td>79457.000000</td>\n",
       "      <td>79457.000000</td>\n",
       "      <td>79457.000000</td>\n",
       "      <td>79457.000000</td>\n",
       "      <td>79457.000000</td>\n",
       "      <td>79457.000000</td>\n",
       "    </tr>\n",
       "    <tr>\n",
       "      <th>mean</th>\n",
       "      <td>14904.629233</td>\n",
       "      <td>42.052783</td>\n",
       "      <td>452.540493</td>\n",
       "      <td>8.276659e+04</td>\n",
       "      <td>21.767357</td>\n",
       "      <td>5.093544e+03</td>\n",
       "      <td>0.777891</td>\n",
       "      <td>11.799049</td>\n",
       "      <td>0.006507</td>\n",
       "      <td>252.732887</td>\n",
       "      <td>...</td>\n",
       "      <td>0.062499</td>\n",
       "      <td>0.044062</td>\n",
       "      <td>0.033389</td>\n",
       "      <td>0.033125</td>\n",
       "      <td>0.036888</td>\n",
       "      <td>0.071372</td>\n",
       "      <td>0.070290</td>\n",
       "      <td>0.000277</td>\n",
       "      <td>0.956165</td>\n",
       "      <td>0.043558</td>\n",
       "    </tr>\n",
       "    <tr>\n",
       "      <th>std</th>\n",
       "      <td>9369.742250</td>\n",
       "      <td>10.422667</td>\n",
       "      <td>283.002287</td>\n",
       "      <td>2.308469e+05</td>\n",
       "      <td>174.594217</td>\n",
       "      <td>2.668625e+04</td>\n",
       "      <td>3.912830</td>\n",
       "      <td>5.734920</td>\n",
       "      <td>0.085558</td>\n",
       "      <td>3788.664649</td>\n",
       "      <td>...</td>\n",
       "      <td>0.242062</td>\n",
       "      <td>0.205233</td>\n",
       "      <td>0.179652</td>\n",
       "      <td>0.178964</td>\n",
       "      <td>0.188488</td>\n",
       "      <td>0.257447</td>\n",
       "      <td>0.255636</td>\n",
       "      <td>0.016637</td>\n",
       "      <td>0.204729</td>\n",
       "      <td>0.204111</td>\n",
       "    </tr>\n",
       "    <tr>\n",
       "      <th>min</th>\n",
       "      <td>1000.000000</td>\n",
       "      <td>36.000000</td>\n",
       "      <td>30.120000</td>\n",
       "      <td>0.000000e+00</td>\n",
       "      <td>-1.000000</td>\n",
       "      <td>0.000000e+00</td>\n",
       "      <td>0.000000</td>\n",
       "      <td>1.000000</td>\n",
       "      <td>0.000000</td>\n",
       "      <td>0.000000</td>\n",
       "      <td>...</td>\n",
       "      <td>0.000000</td>\n",
       "      <td>0.000000</td>\n",
       "      <td>0.000000</td>\n",
       "      <td>0.000000</td>\n",
       "      <td>0.000000</td>\n",
       "      <td>0.000000</td>\n",
       "      <td>0.000000</td>\n",
       "      <td>0.000000</td>\n",
       "      <td>0.000000</td>\n",
       "      <td>0.000000</td>\n",
       "    </tr>\n",
       "    <tr>\n",
       "      <th>25%</th>\n",
       "      <td>8000.000000</td>\n",
       "      <td>36.000000</td>\n",
       "      <td>247.110000</td>\n",
       "      <td>4.900000e+04</td>\n",
       "      <td>12.330000</td>\n",
       "      <td>0.000000e+00</td>\n",
       "      <td>0.000000</td>\n",
       "      <td>8.000000</td>\n",
       "      <td>0.000000</td>\n",
       "      <td>0.000000</td>\n",
       "      <td>...</td>\n",
       "      <td>0.000000</td>\n",
       "      <td>0.000000</td>\n",
       "      <td>0.000000</td>\n",
       "      <td>0.000000</td>\n",
       "      <td>0.000000</td>\n",
       "      <td>0.000000</td>\n",
       "      <td>0.000000</td>\n",
       "      <td>0.000000</td>\n",
       "      <td>1.000000</td>\n",
       "      <td>0.000000</td>\n",
       "    </tr>\n",
       "    <tr>\n",
       "      <th>50%</th>\n",
       "      <td>12000.000000</td>\n",
       "      <td>36.000000</td>\n",
       "      <td>373.560000</td>\n",
       "      <td>7.000000e+04</td>\n",
       "      <td>18.070000</td>\n",
       "      <td>0.000000e+00</td>\n",
       "      <td>0.000000</td>\n",
       "      <td>11.000000</td>\n",
       "      <td>0.000000</td>\n",
       "      <td>0.000000</td>\n",
       "      <td>...</td>\n",
       "      <td>0.000000</td>\n",
       "      <td>0.000000</td>\n",
       "      <td>0.000000</td>\n",
       "      <td>0.000000</td>\n",
       "      <td>0.000000</td>\n",
       "      <td>0.000000</td>\n",
       "      <td>0.000000</td>\n",
       "      <td>0.000000</td>\n",
       "      <td>1.000000</td>\n",
       "      <td>0.000000</td>\n",
       "    </tr>\n",
       "    <tr>\n",
       "      <th>75%</th>\n",
       "      <td>20000.000000</td>\n",
       "      <td>60.000000</td>\n",
       "      <td>604.240000</td>\n",
       "      <td>1.000000e+05</td>\n",
       "      <td>24.410000</td>\n",
       "      <td>0.000000e+00</td>\n",
       "      <td>0.000000</td>\n",
       "      <td>15.000000</td>\n",
       "      <td>0.000000</td>\n",
       "      <td>0.000000</td>\n",
       "      <td>...</td>\n",
       "      <td>0.000000</td>\n",
       "      <td>0.000000</td>\n",
       "      <td>0.000000</td>\n",
       "      <td>0.000000</td>\n",
       "      <td>0.000000</td>\n",
       "      <td>0.000000</td>\n",
       "      <td>0.000000</td>\n",
       "      <td>0.000000</td>\n",
       "      <td>1.000000</td>\n",
       "      <td>0.000000</td>\n",
       "    </tr>\n",
       "    <tr>\n",
       "      <th>max</th>\n",
       "      <td>40000.000000</td>\n",
       "      <td>60.000000</td>\n",
       "      <td>1715.420000</td>\n",
       "      <td>6.100000e+07</td>\n",
       "      <td>9999.000000</td>\n",
       "      <td>1.210000e+06</td>\n",
       "      <td>61.900000</td>\n",
       "      <td>71.000000</td>\n",
       "      <td>3.000000</td>\n",
       "      <td>932461.000000</td>\n",
       "      <td>...</td>\n",
       "      <td>1.000000</td>\n",
       "      <td>1.000000</td>\n",
       "      <td>1.000000</td>\n",
       "      <td>1.000000</td>\n",
       "      <td>1.000000</td>\n",
       "      <td>1.000000</td>\n",
       "      <td>1.000000</td>\n",
       "      <td>1.000000</td>\n",
       "      <td>1.000000</td>\n",
       "      <td>1.000000</td>\n",
       "    </tr>\n",
       "  </tbody>\n",
       "</table>\n",
       "<p>8 rows × 72 columns</p>\n",
       "</div>"
      ],
      "text/plain": [
       "           Loan_Amt     Loan_Term  Monthly_Payment  Annual_Income  \\\n",
       "count  79457.000000  79457.000000     79457.000000   7.945700e+04   \n",
       "mean   14904.629233     42.052783       452.540493   8.276659e+04   \n",
       "std     9369.742250     10.422667       283.002287   2.308469e+05   \n",
       "min     1000.000000     36.000000        30.120000   0.000000e+00   \n",
       "25%     8000.000000     36.000000       247.110000   4.900000e+04   \n",
       "50%    12000.000000     36.000000       373.560000   7.000000e+04   \n",
       "75%    20000.000000     60.000000       604.240000   1.000000e+05   \n",
       "max    40000.000000     60.000000      1715.420000   6.100000e+07   \n",
       "\n",
       "          DTI_Ratio  Joint_Annual_Income  Joint_DTI_Ratio  #_Open_Accounts  \\\n",
       "count  79457.000000         7.945700e+04     79457.000000     79457.000000   \n",
       "mean      21.767357         5.093544e+03         0.777891        11.799049   \n",
       "std      174.594217         2.668625e+04         3.912830         5.734920   \n",
       "min       -1.000000         0.000000e+00         0.000000         1.000000   \n",
       "25%       12.330000         0.000000e+00         0.000000         8.000000   \n",
       "50%       18.070000         0.000000e+00         0.000000        11.000000   \n",
       "75%       24.410000         0.000000e+00         0.000000        15.000000   \n",
       "max     9999.000000         1.210000e+06        61.900000        71.000000   \n",
       "\n",
       "       #_Delinquent_Accounts  Total_Amount_in_Collection  ...  \\\n",
       "count           79457.000000                79457.000000  ...   \n",
       "mean                0.006507                  252.732887  ...   \n",
       "std                 0.085558                 3788.664649  ...   \n",
       "min                 0.000000                    0.000000  ...   \n",
       "25%                 0.000000                    0.000000  ...   \n",
       "50%                 0.000000                    0.000000  ...   \n",
       "75%                 0.000000                    0.000000  ...   \n",
       "max                 3.000000               932461.000000  ...   \n",
       "\n",
       "       Employement_Length_5 years  Employement_Length_6 years  \\\n",
       "count                79457.000000                79457.000000   \n",
       "mean                     0.062499                    0.044062   \n",
       "std                      0.242062                    0.205233   \n",
       "min                      0.000000                    0.000000   \n",
       "25%                      0.000000                    0.000000   \n",
       "50%                      0.000000                    0.000000   \n",
       "75%                      0.000000                    0.000000   \n",
       "max                      1.000000                    1.000000   \n",
       "\n",
       "       Employement_Length_7 years  Employement_Length_8 years  \\\n",
       "count                79457.000000                79457.000000   \n",
       "mean                     0.033389                    0.033125   \n",
       "std                      0.179652                    0.178964   \n",
       "min                      0.000000                    0.000000   \n",
       "25%                      0.000000                    0.000000   \n",
       "50%                      0.000000                    0.000000   \n",
       "75%                      0.000000                    0.000000   \n",
       "max                      1.000000                    1.000000   \n",
       "\n",
       "       Employement_Length_9 years  Employement_Length_< 1 year  \\\n",
       "count                79457.000000                 79457.000000   \n",
       "mean                     0.036888                     0.071372   \n",
       "std                      0.188488                     0.257447   \n",
       "min                      0.000000                     0.000000   \n",
       "25%                      0.000000                     0.000000   \n",
       "50%                      0.000000                     0.000000   \n",
       "75%                      0.000000                     0.000000   \n",
       "max                      1.000000                     1.000000   \n",
       "\n",
       "       Employement_Length_None  Application_Type_DIRECT_PAY  \\\n",
       "count             79457.000000                 79457.000000   \n",
       "mean                  0.070290                     0.000277   \n",
       "std                   0.255636                     0.016637   \n",
       "min                   0.000000                     0.000000   \n",
       "25%                   0.000000                     0.000000   \n",
       "50%                   0.000000                     0.000000   \n",
       "75%                   0.000000                     0.000000   \n",
       "max                   1.000000                     1.000000   \n",
       "\n",
       "       Application_Type_INDIVIDUAL  Application_Type_JOINT  \n",
       "count                 79457.000000            79457.000000  \n",
       "mean                      0.956165                0.043558  \n",
       "std                       0.204729                0.204111  \n",
       "min                       0.000000                0.000000  \n",
       "25%                       1.000000                0.000000  \n",
       "50%                       1.000000                0.000000  \n",
       "75%                       1.000000                0.000000  \n",
       "max                       1.000000                1.000000  \n",
       "\n",
       "[8 rows x 72 columns]"
      ]
     },
     "execution_count": 42,
     "metadata": {},
     "output_type": "execute_result"
    }
   ],
   "source": [
    "X.describe()"
   ]
  },
  {
   "cell_type": "code",
   "execution_count": 43,
   "id": "0a4eaf6c",
   "metadata": {},
   "outputs": [
    {
     "data": {
      "text/plain": [
       "low_risk     78897\n",
       "high_risk      560\n",
       "Name: Loan_Status, dtype: int64"
      ]
     },
     "execution_count": 43,
     "metadata": {},
     "output_type": "execute_result"
    }
   ],
   "source": [
    "# Check the balance of our target values\n",
    "y.value_counts()"
   ]
  },
  {
   "cell_type": "code",
   "execution_count": 44,
   "id": "f04d179f",
   "metadata": {},
   "outputs": [
    {
     "data": {
      "text/plain": [
       "(59592, 72)"
      ]
     },
     "execution_count": 44,
     "metadata": {},
     "output_type": "execute_result"
    }
   ],
   "source": [
    "from sklearn.model_selection import train_test_split\n",
    "X_train, X_test, y_train, y_test = train_test_split(X, y, random_state=1, stratify=y)\n",
    "X_train.shape"
   ]
  },
  {
   "cell_type": "code",
   "execution_count": 45,
   "id": "f8b71afc",
   "metadata": {},
   "outputs": [
    {
     "name": "stdout",
     "output_type": "stream",
     "text": [
      "Requirement already satisfied: imblearn in /Users/michaelokoro/opt/anaconda3/lib/python3.9/site-packages (0.0)\n",
      "Requirement already satisfied: imbalanced-learn in /Users/michaelokoro/opt/anaconda3/lib/python3.9/site-packages (from imblearn) (0.9.1)\n",
      "Requirement already satisfied: scipy>=1.3.2 in /Users/michaelokoro/opt/anaconda3/lib/python3.9/site-packages (from imbalanced-learn->imblearn) (1.7.3)\n",
      "Requirement already satisfied: numpy>=1.17.3 in /Users/michaelokoro/opt/anaconda3/lib/python3.9/site-packages (from imbalanced-learn->imblearn) (1.21.5)\n",
      "Requirement already satisfied: joblib>=1.0.0 in /Users/michaelokoro/opt/anaconda3/lib/python3.9/site-packages (from imbalanced-learn->imblearn) (1.1.0)\n",
      "Requirement already satisfied: scikit-learn>=1.1.0 in /Users/michaelokoro/opt/anaconda3/lib/python3.9/site-packages (from imbalanced-learn->imblearn) (1.1.3)\n",
      "Requirement already satisfied: threadpoolctl>=2.0.0 in /Users/michaelokoro/opt/anaconda3/lib/python3.9/site-packages (from imbalanced-learn->imblearn) (2.2.0)\n",
      "Note: you may need to restart the kernel to use updated packages.\n"
     ]
    }
   ],
   "source": [
    "pip install imblearn\n"
   ]
  },
  {
   "cell_type": "markdown",
   "id": "2e4ccec5",
   "metadata": {},
   "source": [
    "### Oversampling"
   ]
  },
  {
   "cell_type": "markdown",
   "id": "7de644c3",
   "metadata": {},
   "source": [
    "## Naive Random Oversampling"
   ]
  },
  {
   "cell_type": "code",
   "execution_count": 46,
   "id": "2790b3c2",
   "metadata": {},
   "outputs": [
    {
     "data": {
      "text/plain": [
       "Counter({'low_risk': 59172, 'high_risk': 59172})"
      ]
     },
     "execution_count": 46,
     "metadata": {},
     "output_type": "execute_result"
    }
   ],
   "source": [
    "# Resample the training data with the RandomOversampler\n",
    "from imblearn.over_sampling import RandomOverSampler\n",
    "ros = RandomOverSampler(random_state=1)\n",
    "X_resampled, y_resampled = ros.fit_resample(X_train, y_train)\n",
    "Counter(y_resampled)\n"
   ]
  },
  {
   "cell_type": "code",
   "execution_count": 47,
   "id": "75a1fb59",
   "metadata": {},
   "outputs": [
    {
     "data": {
      "text/plain": [
       "LogisticRegression(random_state=1)"
      ]
     },
     "execution_count": 47,
     "metadata": {},
     "output_type": "execute_result"
    }
   ],
   "source": [
    "# Train the Logistic Regression model using the resampled data\n",
    "from sklearn.linear_model import LogisticRegression\n",
    "model = LogisticRegression(solver='lbfgs', random_state=1)\n",
    "model.fit(X_resampled, y_resampled)"
   ]
  },
  {
   "cell_type": "code",
   "execution_count": 48,
   "id": "b7d9ba4a",
   "metadata": {},
   "outputs": [
    {
     "data": {
      "text/plain": [
       "0.5601792504073873"
      ]
     },
     "execution_count": 48,
     "metadata": {},
     "output_type": "execute_result"
    }
   ],
   "source": [
    "# Calculated the balanced accuracy score\n",
    "from sklearn.metrics import balanced_accuracy_score\n",
    "y_pred = model.predict(X_test)\n",
    "balanced_accuracy_score(y_test, y_pred)"
   ]
  },
  {
   "cell_type": "code",
   "execution_count": 49,
   "id": "95a657b4",
   "metadata": {},
   "outputs": [
    {
     "data": {
      "text/plain": [
       "array([[  102,    38],\n",
       "       [11997,  7728]])"
      ]
     },
     "execution_count": 49,
     "metadata": {},
     "output_type": "execute_result"
    }
   ],
   "source": [
    "# Display the confusion matrix\n",
    "from sklearn.metrics import confusion_matrix\n",
    "confusion_matrix(y_test, y_pred)"
   ]
  },
  {
   "cell_type": "code",
   "execution_count": 50,
   "id": "2b07d480",
   "metadata": {},
   "outputs": [
    {
     "name": "stdout",
     "output_type": "stream",
     "text": [
      "                   pre       rec       spe        f1       geo       iba       sup\n",
      "\n",
      "  high_risk       0.01      0.73      0.39      0.02      0.53      0.30       140\n",
      "   low_risk       1.00      0.39      0.73      0.56      0.53      0.28     19725\n",
      "\n",
      "avg / total       0.99      0.39      0.73      0.56      0.53      0.28     19865\n",
      "\n"
     ]
    }
   ],
   "source": [
    "# Print the imbalanced classification report\n",
    "# Naive Random Oversampling\n",
    "from imblearn.metrics import classification_report_imbalanced\n",
    "print(classification_report_imbalanced(y_test, y_pred))"
   ]
  },
  {
   "cell_type": "markdown",
   "id": "eb3bba84",
   "metadata": {},
   "source": [
    "## SMOTE Oversampling"
   ]
  },
  {
   "cell_type": "code",
   "execution_count": 51,
   "id": "74426aba",
   "metadata": {},
   "outputs": [
    {
     "data": {
      "text/plain": [
       "Counter({'low_risk': 59172, 'high_risk': 59172})"
      ]
     },
     "execution_count": 51,
     "metadata": {},
     "output_type": "execute_result"
    }
   ],
   "source": [
    "# Resample the training data with SMOTE\n",
    "from imblearn.over_sampling import SMOTE\n",
    "X_resampled, y_resampled = SMOTE(random_state=1, sampling_strategy='auto').fit_resample(X_train, y_train)\n",
    "Counter(y_resampled)"
   ]
  },
  {
   "cell_type": "code",
   "execution_count": 52,
   "id": "98af295e",
   "metadata": {},
   "outputs": [
    {
     "data": {
      "text/plain": [
       "LogisticRegression(random_state=1)"
      ]
     },
     "execution_count": 52,
     "metadata": {},
     "output_type": "execute_result"
    }
   ],
   "source": [
    "# Train the Logistic Regression model using the resampled data\n",
    "model = LogisticRegression(solver='lbfgs', random_state=1)\n",
    "model.fit(X_resampled, y_resampled)"
   ]
  },
  {
   "cell_type": "code",
   "execution_count": 53,
   "id": "1a78b939",
   "metadata": {},
   "outputs": [
    {
     "data": {
      "text/plain": [
       "0.5647130182871627"
      ]
     },
     "execution_count": 53,
     "metadata": {},
     "output_type": "execute_result"
    }
   ],
   "source": [
    "# Calculated the balanced accuracy score\n",
    "y_pred = model.predict(X_test)\n",
    "balanced_accuracy_score(y_test, y_pred)"
   ]
  },
  {
   "cell_type": "code",
   "execution_count": 54,
   "id": "3cfd97ce",
   "metadata": {},
   "outputs": [
    {
     "data": {
      "text/plain": [
       "array([[   94,    46],\n",
       "       [10691,  9034]])"
      ]
     },
     "execution_count": 54,
     "metadata": {},
     "output_type": "execute_result"
    }
   ],
   "source": [
    "# Display the confusion matrix\n",
    "confusion_matrix(y_test, y_pred)"
   ]
  },
  {
   "cell_type": "code",
   "execution_count": 55,
   "id": "a08ef877",
   "metadata": {},
   "outputs": [
    {
     "name": "stdout",
     "output_type": "stream",
     "text": [
      "                   pre       rec       spe        f1       geo       iba       sup\n",
      "\n",
      "  high_risk       0.01      0.67      0.46      0.02      0.55      0.31       140\n",
      "   low_risk       0.99      0.46      0.67      0.63      0.55      0.30     19725\n",
      "\n",
      "avg / total       0.99      0.46      0.67      0.62      0.55      0.30     19865\n",
      "\n"
     ]
    }
   ],
   "source": [
    "# Print the imbalanced classification report\n",
    "# SMOTE Oversampling\n",
    "print(classification_report_imbalanced(y_test, y_pred))"
   ]
  },
  {
   "cell_type": "markdown",
   "id": "054ebcbe",
   "metadata": {},
   "source": [
    "## Undersampling"
   ]
  },
  {
   "cell_type": "code",
   "execution_count": 56,
   "id": "21663bad",
   "metadata": {},
   "outputs": [
    {
     "data": {
      "text/plain": [
       "LogisticRegression(random_state=78)"
      ]
     },
     "execution_count": 56,
     "metadata": {},
     "output_type": "execute_result"
    }
   ],
   "source": [
    "# Train the Logistic Regression model using the resampled data\n",
    "from sklearn.linear_model import LogisticRegression\n",
    "model = LogisticRegression(solver='lbfgs', random_state=78)\n",
    "model.fit(X_resampled, y_resampled)"
   ]
  },
  {
   "cell_type": "code",
   "execution_count": 57,
   "id": "9966e8db",
   "metadata": {},
   "outputs": [
    {
     "data": {
      "text/plain": [
       "0.5647130182871627"
      ]
     },
     "execution_count": 57,
     "metadata": {},
     "output_type": "execute_result"
    }
   ],
   "source": [
    "# Calculated the balanced accuracy score\n",
    "from sklearn.metrics import balanced_accuracy_score\n",
    "balanced_accuracy_score(y_test, y_pred)"
   ]
  },
  {
   "cell_type": "code",
   "execution_count": 58,
   "id": "dd3419ff",
   "metadata": {},
   "outputs": [
    {
     "data": {
      "text/plain": [
       "array([[   94,    46],\n",
       "       [10691,  9034]])"
      ]
     },
     "execution_count": 58,
     "metadata": {},
     "output_type": "execute_result"
    }
   ],
   "source": [
    "# Display the confusion matrix\n",
    "from sklearn.metrics import confusion_matrix\n",
    "y_pred = model.predict(X_test)\n",
    "confusion_matrix(y_test, y_pred)"
   ]
  },
  {
   "cell_type": "code",
   "execution_count": 59,
   "id": "79ad8a8e",
   "metadata": {},
   "outputs": [
    {
     "name": "stdout",
     "output_type": "stream",
     "text": [
      "                   pre       rec       spe        f1       geo       iba       sup\n",
      "\n",
      "  high_risk       0.01      0.67      0.46      0.02      0.55      0.31       140\n",
      "   low_risk       0.99      0.46      0.67      0.63      0.55      0.30     19725\n",
      "\n",
      "avg / total       0.99      0.46      0.67      0.62      0.55      0.30     19865\n",
      "\n"
     ]
    }
   ],
   "source": [
    "# Print the imbalanced classification report\n",
    "# Undersampling\n",
    "from imblearn.metrics import classification_report_imbalanced\n",
    "print(classification_report_imbalanced(y_test, y_pred))"
   ]
  },
  {
   "cell_type": "markdown",
   "id": "493970d8",
   "metadata": {},
   "source": [
    "## Combination (Over and Under) Sampling\n"
   ]
  },
  {
   "cell_type": "code",
   "execution_count": 60,
   "id": "58b0a892",
   "metadata": {},
   "outputs": [
    {
     "data": {
      "text/plain": [
       "LogisticRegression(random_state=1)"
      ]
     },
     "execution_count": 60,
     "metadata": {},
     "output_type": "execute_result"
    }
   ],
   "source": [
    "# Train the Logistic Regression model using the resampled data\n",
    "from sklearn.linear_model import LogisticRegression\n",
    "model = LogisticRegression(solver='lbfgs', random_state=1)\n",
    "model.fit(X_resampled, y_resampled)"
   ]
  },
  {
   "cell_type": "code",
   "execution_count": 61,
   "id": "70914554",
   "metadata": {},
   "outputs": [
    {
     "data": {
      "text/plain": [
       "0.5647130182871627"
      ]
     },
     "execution_count": 61,
     "metadata": {},
     "output_type": "execute_result"
    }
   ],
   "source": [
    "# Calculated the balanced accuracy score\n",
    "from sklearn.metrics import balanced_accuracy_score\n",
    "balanced_accuracy_score(y_test, y_pred)"
   ]
  },
  {
   "cell_type": "code",
   "execution_count": 62,
   "id": "46d86c58",
   "metadata": {},
   "outputs": [
    {
     "data": {
      "text/plain": [
       "array([[   94,    46],\n",
       "       [10691,  9034]])"
      ]
     },
     "execution_count": 62,
     "metadata": {},
     "output_type": "execute_result"
    }
   ],
   "source": [
    "# Display the confusion matrix\n",
    "from sklearn.metrics import confusion_matrix\n",
    "y_pred = model.predict(X_test)\n",
    "confusion_matrix(y_test, y_pred)"
   ]
  },
  {
   "cell_type": "code",
   "execution_count": 63,
   "id": "a54e5fd5",
   "metadata": {},
   "outputs": [
    {
     "name": "stdout",
     "output_type": "stream",
     "text": [
      "                   pre       rec       spe        f1       geo       iba       sup\n",
      "\n",
      "  high_risk       0.01      0.67      0.46      0.02      0.55      0.31       140\n",
      "   low_risk       0.99      0.46      0.67      0.63      0.55      0.30     19725\n",
      "\n",
      "avg / total       0.99      0.46      0.67      0.62      0.55      0.30     19865\n",
      "\n"
     ]
    }
   ],
   "source": [
    "# Print the imbalanced classification report\n",
    "# Combination (Over and Under) Sampling\n",
    "from imblearn.metrics import classification_report_imbalanced\n",
    "print(classification_report_imbalanced(y_test, y_pred))"
   ]
  },
  {
   "cell_type": "code",
   "execution_count": null,
   "id": "c6b694f9",
   "metadata": {},
   "outputs": [],
   "source": []
  },
  {
   "cell_type": "code",
   "execution_count": null,
   "id": "63635b79",
   "metadata": {},
   "outputs": [],
   "source": []
  }
 ],
 "metadata": {
  "kernelspec": {
   "display_name": "mlenv",
   "language": "python",
   "name": "mlenv"
  },
  "language_info": {
   "codemirror_mode": {
    "name": "ipython",
    "version": 3
   },
   "file_extension": ".py",
   "mimetype": "text/x-python",
   "name": "python",
   "nbconvert_exporter": "python",
   "pygments_lexer": "ipython3",
   "version": "3.9.12"
  }
 },
 "nbformat": 4,
 "nbformat_minor": 5
}
